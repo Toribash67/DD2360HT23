{
  "nbformat": 4,
  "nbformat_minor": 0,
  "metadata": {
    "colab": {
      "provenance": [],
      "gpuType": "T4"
    },
    "kernelspec": {
      "name": "python3",
      "display_name": "Python 3"
    },
    "language_info": {
      "name": "python"
    },
    "accelerator": "GPU"
  },
  "cells": [
    {
      "cell_type": "code",
      "execution_count": 14,
      "metadata": {
        "colab": {
          "base_uri": "https://localhost:8080/"
        },
        "id": "_DQNO5vZE-F1",
        "outputId": "5cf3c6c9-ef39-4b5c-956c-d9177f7d58c6"
      },
      "outputs": [
        {
          "output_type": "stream",
          "name": "stdout",
          "text": [
            "Overwriting vecAdd_2.cu\n"
          ]
        }
      ],
      "source": [
        "%%writefile vecAdd_2.cu\n",
        "#include <stdio.h>\n",
        "#include <stdlib.h>\n",
        "#include <sys/time.h>\n",
        "\n",
        "#define DataType double\n",
        "#define TPB 32\n",
        "#define nstreams 4\n",
        "\n",
        "__global__ void vecAdd(DataType *in1, DataType *in2, DataType *out, int len) {\n",
        "  //@@ Insert code to implement vector addition here\n",
        "  int tid = blockIdx.x * blockDim.x + threadIdx.x;\n",
        "  const int t_n = gridDim.x * blockDim.x;\n",
        "  while (tid < len)\n",
        "  {\n",
        "    out[tid] = in1[tid] + in2[tid];\n",
        "    tid += t_n;\n",
        "  }\n",
        "}\n",
        "\n",
        "//@@ Insert code to implement timer start\n",
        "DataType cpuSecond(){\n",
        "  struct timeval tp;\n",
        "  gettimeofday(&tp, NULL);\n",
        "  return ((double)tp.tv_sec + (double)tp.tv_usec*1.e-6);\n",
        "}\n",
        "\n",
        "//@@ Insert code to implement timer stop\n",
        "\n",
        "int main(int argc, char **argv) {\n",
        "\n",
        "  int inputLength;\n",
        "  DataType *hostInput1;\n",
        "  DataType *hostInput2;\n",
        "  DataType *hostOutput;\n",
        "  DataType *resultRef;\n",
        "  DataType *deviceInput1;\n",
        "  DataType *deviceInput2;\n",
        "  DataType *deviceOutput;\n",
        "\n",
        "  //@@ Insert code below to read in inputLength from args\n",
        "  inputLength = atoi(argv[1]);\n",
        "  printf(\"The input length is %d\\n\", inputLength);\n",
        "\n",
        "  //@@ Insert code below to allocate Host memory for input and output\n",
        "  cudaHostAlloc((void **)&hostInput1, inputLength*sizeof(DataType), cudaHostAllocDefault);\n",
        "  cudaHostAlloc((void **)&hostInput2, inputLength*sizeof(DataType), cudaHostAllocDefault);\n",
        "  cudaHostAlloc((void **)&hostOutput, inputLength*sizeof(DataType), cudaHostAllocDefault);\n",
        "  resultRef = (DataType *)malloc(sizeof(DataType)*inputLength);\n",
        "\n",
        "  //@@ Insert code below to initialize hostInput1 and hostInput2 to random numbers, and create reference result in CPU\n",
        "  int i;\n",
        "  for(i=0; i<inputLength; i++){\n",
        "    hostInput1[i] = rand()%100;\n",
        "    hostInput2[i] = rand()%100;\n",
        "    resultRef[i] = hostInput1[i] + hostInput2[i];\n",
        "  }\n",
        "\n",
        "  //@@ Insert code below to allocate GPU memory here\n",
        "  cudaMalloc(&deviceInput1, sizeof(DataType)*inputLength);\n",
        "  cudaMalloc(&deviceInput2, sizeof(DataType)*inputLength);\n",
        "  cudaMalloc(&deviceOutput, sizeof(DataType)*inputLength);\n",
        "\n",
        "  //@@ Insert code to below to Copy memory to the GPU here\n",
        "  int S_seg = atoi(argv[2]);\n",
        "  printf(\"the segment length is %d\\n\", S_seg);\n",
        "  int circle1 = inputLength / (S_seg * nstreams);\n",
        "  int circle2 = (inputLength - circle1 * S_seg * nstreams) / S_seg;\n",
        "  int circle3 = inputLength - circle1 * S_seg * nstreams - circle2 * S_seg;\n",
        "  int j;\n",
        "  int c;\n",
        "  const int streamSize = S_seg;\n",
        "  const int streamBytes = streamSize * sizeof(double);\n",
        "  cudaStream_t stream[nstreams];\n",
        "  for (i=0; i<nstreams; i++){\n",
        "    cudaStreamCreate(&stream[i]);\n",
        "  }\n",
        "\n",
        "  //@@ Initialize the 1D grid and block dimensions here\n",
        "  //@@ Launch the GPU Kernel here\n",
        "  DataType iStart = cpuSecond();\n",
        "  for(i=0; i<circle1; i++){\n",
        "    c = i * S_seg * nstreams;\n",
        "    for(j=0; j<nstreams; j++){\n",
        "      int offset = j * streamSize + c;\n",
        "      cudaMemcpyAsync(&deviceInput1[offset], &hostInput1[offset], streamBytes, cudaMemcpyHostToDevice, stream[j]);\n",
        "      cudaMemcpyAsync(&deviceInput2[offset], &hostInput2[offset], streamBytes, cudaMemcpyHostToDevice, stream[j]);\n",
        "      vecAdd<<<((streamSize+TPB-1)/TPB), TPB, 0, stream[j]>>>(&deviceInput1[offset], &deviceInput2[offset], &deviceOutput[offset], streamSize);\n",
        "      cudaMemcpyAsync(&hostOutput[offset], &deviceOutput[offset], streamBytes, cudaMemcpyDeviceToHost, stream[j]);\n",
        "      }\n",
        "    cudaDeviceSynchronize();\n",
        "  }\n",
        "  for(i=0; i<circle2; i++){\n",
        "      int offset = i * streamSize + circle1 * S_seg * nstreams;\n",
        "      cudaMemcpyAsync(&deviceInput1[offset], &hostInput1[offset], streamBytes, cudaMemcpyHostToDevice, stream[i]);\n",
        "      cudaMemcpyAsync(&deviceInput2[offset], &hostInput2[offset], streamBytes, cudaMemcpyHostToDevice, stream[i]);\n",
        "      vecAdd<<<((streamSize+TPB-1)/TPB), TPB, 0, stream[i]>>>(&deviceInput1[offset], &deviceInput2[offset], &deviceOutput[offset], streamSize);\n",
        "      cudaMemcpyAsync(&hostOutput[offset], &deviceOutput[offset], streamBytes, cudaMemcpyDeviceToHost, stream[i]);\n",
        "      }\n",
        "  int remainSize = circle3;\n",
        "  int remainBytes = remainSize * sizeof(DataType);\n",
        "  cudaMemcpy(&deviceInput1[inputLength-remainSize], &hostInput1[inputLength-remainSize], remainBytes, cudaMemcpyHostToDevice);\n",
        "  cudaMemcpy(&deviceInput2[inputLength-remainSize], &hostInput2[inputLength-remainSize], remainBytes, cudaMemcpyHostToDevice);\n",
        "  vecAdd<<<(remainSize+TPB-1)/TPB, TPB>>>(&deviceInput1[inputLength-remainSize], &deviceInput2[inputLength-remainSize], &deviceOutput[inputLength-remainSize], remainSize);\n",
        "  cudaMemcpy(&hostOutput[inputLength-remainSize], &deviceOutput[inputLength-remainSize], remainBytes, cudaMemcpyDeviceToHost);\n",
        "\n",
        "  DataType iElaps = cpuSecond() - iStart;\n",
        "\n",
        "  for (i=0; i<nstreams; i++){\n",
        "    cudaStreamDestroy(stream[i]);\n",
        "  }\n",
        "\n",
        "  //@@ Copy the GPU memory back to the CPU here\n",
        "\n",
        "  //@@ Insert code below to compare the output with the reference\n",
        "  bool equal = false;\n",
        "  int err;\n",
        "  for (i=0; i<inputLength; i++){\n",
        "    if(hostOutput[i] == resultRef[i]){\n",
        "    equal = true;\n",
        "  }\n",
        "  else{\n",
        "    equal = false;\n",
        "    err = i;\n",
        "    break;\n",
        "  }\n",
        "  }\n",
        "\n",
        "  if(equal == true){\n",
        "    printf(\"check passed! runtime: %f\", iElaps);\n",
        "  }\n",
        "  else{\n",
        "    printf(\"check error! error: %d\", err);\n",
        "  }\n",
        "\n",
        "\n",
        "  //@@ Free the GPU memory here\n",
        "  cudaFree(deviceInput1);\n",
        "  cudaFree(deviceInput2);\n",
        "  cudaFree(deviceOutput);\n",
        "\n",
        "  //@@ Free the CPU memory here\n",
        "  cudaFreeHost(hostInput1);\n",
        "  cudaFreeHost(hostInput2);\n",
        "  cudaFreeHost(hostOutput);\n",
        "\n",
        "  return 0;\n",
        "}\n"
      ]
    },
    {
      "cell_type": "code",
      "source": [
        "! nvcc vecAdd_2.cu -o vecAdd_2"
      ],
      "metadata": {
        "id": "WbElx0JBGRuG"
      },
      "execution_count": 15,
      "outputs": []
    },
    {
      "cell_type": "code",
      "source": [
        "! ./vecAdd_2 16777216 4096"
      ],
      "metadata": {
        "colab": {
          "base_uri": "https://localhost:8080/"
        },
        "id": "ISX3otC-JHvY",
        "outputId": "e0552527-8f70-4573-b1b9-49f4b30c480a"
      },
      "execution_count": 16,
      "outputs": [
        {
          "output_type": "stream",
          "name": "stdout",
          "text": [
            "The input length is 16777216\n",
            "the segment length is 4096\n",
            "check passed! runtime: 0.080454"
          ]
        }
      ]
    },
    {
      "cell_type": "code",
      "source": [
        "! nvprof --output-profile profile_vecAdd.nvvp -f ./vecAdd_2 16777216"
      ],
      "metadata": {
        "colab": {
          "base_uri": "https://localhost:8080/"
        },
        "id": "nT-PJ-fNvU_v",
        "outputId": "a6576172-3339-424f-97b9-213a5ce67858"
      },
      "execution_count": 9,
      "outputs": [
        {
          "output_type": "stream",
          "name": "stdout",
          "text": [
            "The input length is 16777216\n",
            "==22549== NVPROF is profiling process 22549, command: ./vecAdd_2 16777216\n",
            "check passed! runtime: 0.116871==22549== Generated result file: /content/profile_vecAdd.nvvp\n"
          ]
        }
      ]
    },
    {
      "cell_type": "code",
      "source": [
        "! ./vecAdd_2 16777216 8192"
      ],
      "metadata": {
        "id": "ibqk63iZxhr5",
        "colab": {
          "base_uri": "https://localhost:8080/"
        },
        "outputId": "d0f25178-4b9e-4853-9798-bebb0a2ff2c3"
      },
      "execution_count": 17,
      "outputs": [
        {
          "output_type": "stream",
          "name": "stdout",
          "text": [
            "The input length is 16777216\n",
            "the segment length is 8192\n",
            "check passed! runtime: 0.053213"
          ]
        }
      ]
    },
    {
      "cell_type": "code",
      "source": [
        "! ./vecAdd_2 16777216 32768"
      ],
      "metadata": {
        "colab": {
          "base_uri": "https://localhost:8080/"
        },
        "id": "0whq0nFe1Bcc",
        "outputId": "a4cae4aa-fc21-4d68-a5e9-62175b67e933"
      },
      "execution_count": 18,
      "outputs": [
        {
          "output_type": "stream",
          "name": "stdout",
          "text": [
            "The input length is 16777216\n",
            "the segment length is 32768\n",
            "check passed! runtime: 0.034736"
          ]
        }
      ]
    },
    {
      "cell_type": "code",
      "source": [
        "! ./vecAdd_2 16777216 262144"
      ],
      "metadata": {
        "colab": {
          "base_uri": "https://localhost:8080/"
        },
        "id": "CrlS8Fk71LAP",
        "outputId": "d76821f0-d38c-42df-b6da-df030607b810"
      },
      "execution_count": 19,
      "outputs": [
        {
          "output_type": "stream",
          "name": "stdout",
          "text": [
            "The input length is 16777216\n",
            "the segment length is 262144\n",
            "check passed! runtime: 0.028968"
          ]
        }
      ]
    },
    {
      "cell_type": "code",
      "source": [
        "! ./vecAdd_2 16777216 4194304"
      ],
      "metadata": {
        "colab": {
          "base_uri": "https://localhost:8080/"
        },
        "id": "HI7pyfwx1RB2",
        "outputId": "e99ee9a1-c6c3-4a8c-e75d-cfb274b355fd"
      },
      "execution_count": 20,
      "outputs": [
        {
          "output_type": "stream",
          "name": "stdout",
          "text": [
            "The input length is 16777216\n",
            "the segment length is 4194304\n",
            "check passed! runtime: 0.027397"
          ]
        }
      ]
    }
  ]
}